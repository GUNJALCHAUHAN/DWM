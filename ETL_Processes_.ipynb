{
  "nbformat": 4,
  "nbformat_minor": 0,
  "metadata": {
    "colab": {
      "provenance": []
    },
    "kernelspec": {
      "name": "python3",
      "display_name": "Python 3"
    },
    "language_info": {
      "name": "python"
    }
  },
  "cells": [
    {
      "cell_type": "code",
      "execution_count": null,
      "metadata": {
        "colab": {
          "base_uri": "https://localhost:8080/"
        },
        "id": "ZDHexrRTPSN2",
        "outputId": "dc06a316-0d91-4b09-f9a2-73df143630a6"
      },
      "outputs": [
        {
          "output_type": "stream",
          "name": "stdout",
          "text": [
            "Original Dataset\n",
            "    ID     Name  Age        State  Sales\n",
            "0  101  Reyansh   27    Rajasthan    200\n",
            "1  102    Aarav   28  Maharashtra    450\n",
            "2  103  Shivani   24           MP    190\n",
            "3  104   Yuvraj   22    Karnataka    350\n",
            "4  105    Kavya   21           UP    240\n"
          ]
        }
      ],
      "source": [
        "import numpy as pd\n",
        "import pandas as pd\n",
        "\n",
        "data = {\n",
        "    'ID': [101, 102, 103, 104, 105],\n",
        "    'Name': ['Reyansh', 'Aarav', 'Shivani', 'Yuvraj', 'Kavya'],\n",
        "    'Age': [27, 28, 24, 22, 21],\n",
        "    'State': ['Rajasthan', 'Maharashtra', 'MP', 'Karnataka', 'UP'],\n",
        "    'Sales': [200, 450, 190, 350, 240]\n",
        "}\n",
        "\n",
        "# Create dataframe\n",
        "df = pd.DataFrame(data)\n",
        "print(\"Original Dataset\")\n",
        "print(df)\n",
        "\n"
      ]
    },
    {
      "cell_type": "code",
      "source": [
        "# 1. Character Map: Convert ‘Name’ to uppercase\n",
        "df['Name_Upper'] = df['Name'].str.upper()\n",
        "print(\"\\nCharacter Map (Uppercase Names): \")\n",
        "print(df[['Name', 'Name_Upper']])"
      ],
      "metadata": {
        "colab": {
          "base_uri": "https://localhost:8080/"
        },
        "id": "_nSip8VcPlHs",
        "outputId": "6431bbbf-d1c3-49ab-ec0f-882d6e8d0ee2"
      },
      "execution_count": null,
      "outputs": [
        {
          "output_type": "stream",
          "name": "stdout",
          "text": [
            "\n",
            "Character Map (Uppercase Names): \n",
            "      Name Name_Upper\n",
            "0  Reyansh    REYANSH\n",
            "1    Aarav      AARAV\n",
            "2  Shivani    SHIVANI\n",
            "3   Yuvraj     YUVRAJ\n",
            "4    Kavya      KAVYA\n"
          ]
        }
      ]
    },
    {
      "cell_type": "code",
      "source": [
        "# 2. Multicast - Creating copies with modifications\n",
        "df_copy1 = df.copy()\n",
        "df_copy2 = df.copy()\n",
        "\n",
        "df_copy1['Sales'] *= 1.1  # Increase Sales by 10%\n",
        "df_copy2['Age'] += 5  # Increase Age by 5\n",
        "\n",
        "print(\"\\nMulticast (Modified Copies):\")\n",
        "print(\"Copy 1 (Sales Increased) :\")\n",
        "print(df_copy1)\n",
        "\n",
        "print(\"\\nCopy 2 (Age Increased) :\")\n",
        "print(df_copy2)"
      ],
      "metadata": {
        "colab": {
          "base_uri": "https://localhost:8080/"
        },
        "id": "zDiixCwWPl20",
        "outputId": "1f9cb52e-af85-4589-82e5-b800058f4e1e"
      },
      "execution_count": null,
      "outputs": [
        {
          "output_type": "stream",
          "name": "stdout",
          "text": [
            "\n",
            "Multicast (Modified Copies):\n",
            "Copy 1 (Sales Increased) :\n",
            "    ID     Name  Age        State  Sales Name_Upper\n",
            "0  101  Reyansh   27    Rajasthan  220.0    REYANSH\n",
            "1  102    Aarav   28  Maharashtra  495.0      AARAV\n",
            "2  103  Shivani   24           MP  209.0    SHIVANI\n",
            "3  104   Yuvraj   22    Karnataka  385.0     YUVRAJ\n",
            "4  105    Kavya   21           UP  264.0      KAVYA\n",
            "\n",
            "Copy 2 (Age Increased) :\n",
            "    ID     Name  Age        State  Sales Name_Upper\n",
            "0  101  Reyansh   32    Rajasthan    200    REYANSH\n",
            "1  102    Aarav   33  Maharashtra    450      AARAV\n",
            "2  103  Shivani   29           MP    190    SHIVANI\n",
            "3  104   Yuvraj   27    Karnataka    350     YUVRAJ\n",
            "4  105    Kavya   26           UP    240      KAVYA\n"
          ]
        }
      ]
    },
    {
      "cell_type": "code",
      "source": [
        "# 3. Conditional Split: Sales > 300\n",
        "high_sales = df[df['Sales'] > 300]\n",
        "low_sales = df[df['Sales'] <= 300]\n",
        "\n",
        "print(\"\\nConditional Split:\")\n",
        "print(\"High Sales:\")\n",
        "print(high_sales)\n",
        "print(\"\\nLow Sales:\")\n",
        "print(low_sales)"
      ],
      "metadata": {
        "colab": {
          "base_uri": "https://localhost:8080/"
        },
        "id": "ZTfJpHKMPtJb",
        "outputId": "666116a7-2063-4460-8f37-156a81c939cf"
      },
      "execution_count": null,
      "outputs": [
        {
          "output_type": "stream",
          "name": "stdout",
          "text": [
            "\n",
            "Conditional Split:\n",
            "High Sales:\n",
            "    ID    Name  Age        State  Sales Name_Upper\n",
            "1  102   Aarav   28  Maharashtra    450      AARAV\n",
            "3  104  Yuvraj   22    Karnataka    350     YUVRAJ\n",
            "\n",
            "Low Sales:\n",
            "    ID     Name  Age      State  Sales Name_Upper\n",
            "0  101  Reyansh   27  Rajasthan    200    REYANSH\n",
            "2  103  Shivani   24         MP    190    SHIVANI\n",
            "4  105    Kavya   21         UP    240      KAVYA\n"
          ]
        }
      ]
    },
    {
      "cell_type": "code",
      "source": [
        "# 4. Aggregation: Total sales by state\n",
        "agg_df = df.groupby('State')['Sales'].sum().reset_index()\n",
        "print(\"\\nAggregation (Total Sales by State):\")\n",
        "print(agg_df)"
      ],
      "metadata": {
        "colab": {
          "base_uri": "https://localhost:8080/"
        },
        "id": "qvUeSzR_PzA_",
        "outputId": "b692b102-d619-4fa6-9cc6-9394bd77606e"
      },
      "execution_count": null,
      "outputs": [
        {
          "output_type": "stream",
          "name": "stdout",
          "text": [
            "\n",
            "Aggregation (Total Sales by State):\n",
            "         State  Sales\n",
            "0    Karnataka    350\n",
            "1           MP    190\n",
            "2  Maharashtra    450\n",
            "3    Rajasthan    200\n",
            "4           UP    240\n"
          ]
        }
      ]
    },
    {
      "cell_type": "code",
      "source": [
        "# 5. Sorting by Sales in descending order\n",
        "sorted_df = df.sort_values(by=\"Sales\", ascending=False)\n",
        "print(\"\\nSort (Descending Sales):\")\n",
        "print(sorted_df)\n"
      ],
      "metadata": {
        "colab": {
          "base_uri": "https://localhost:8080/"
        },
        "id": "pQXFHrbXP172",
        "outputId": "51034fff-a8b7-4c9a-8c90-83f6c2a2b716"
      },
      "execution_count": null,
      "outputs": [
        {
          "output_type": "stream",
          "name": "stdout",
          "text": [
            "\n",
            "Sort (Descending Sales):\n",
            "    ID     Name  Age        State  Sales Name_Upper\n",
            "1  102    Aarav   28  Maharashtra    450      AARAV\n",
            "3  104   Yuvraj   22    Karnataka    350     YUVRAJ\n",
            "4  105    Kavya   21           UP    240      KAVYA\n",
            "0  101  Reyansh   27    Rajasthan    200    REYANSH\n",
            "2  103  Shivani   24           MP    190    SHIVANI\n"
          ]
        }
      ]
    },
    {
      "cell_type": "code",
      "source": [
        "# 6. Derived Column: Categorizing Sales\n",
        "df['Sales_Category'] = df['Sales'].apply(lambda x: 'High' if x > 300 else 'Low')\n",
        "\n",
        "print(\"\\nDerived Column (Sales Categories) :\")\n",
        "print(df[['ID', 'Name', 'Sales', 'Sales_Category']])\n"
      ],
      "metadata": {
        "colab": {
          "base_uri": "https://localhost:8080/"
        },
        "id": "fuSfNAXxP5tg",
        "outputId": "ddb04b14-d312-46a6-e064-e1fe31cdf140"
      },
      "execution_count": null,
      "outputs": [
        {
          "output_type": "stream",
          "name": "stdout",
          "text": [
            "\n",
            "Derived Column (Sales Categories) :\n",
            "    ID     Name  Sales Sales_Category\n",
            "0  101  Reyansh    200            Low\n",
            "1  102    Aarav    450           High\n",
            "2  103  Shivani    190            Low\n",
            "3  104   Yuvraj    350           High\n",
            "4  105    Kavya    240            Low\n"
          ]
        }
      ]
    }
  ]
}