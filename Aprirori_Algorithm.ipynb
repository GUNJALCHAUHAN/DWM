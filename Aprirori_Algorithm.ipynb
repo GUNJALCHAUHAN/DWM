{
  "nbformat": 4,
  "nbformat_minor": 0,
  "metadata": {
    "colab": {
      "provenance": []
    },
    "kernelspec": {
      "name": "python3",
      "display_name": "Python 3"
    },
    "language_info": {
      "name": "python"
    }
  },
  "cells": [
    {
      "cell_type": "markdown",
      "source": [
        "Aprirori Algorithm : Market basket Analysis\n",
        "\n",
        "Problem Statement :- The manager of a retail store is trying to find out an association rule between six items, to figure out which items are more often bought together so that he can can keep"
      ],
      "metadata": {
        "id": "bWnmX-SmlXzt"
      }
    },
    {
      "cell_type": "code",
      "execution_count": 1,
      "metadata": {
        "colab": {
          "base_uri": "https://localhost:8080/",
          "height": 0
        },
        "id": "iVbV9yYekXGn",
        "outputId": "224c961b-eb0b-491c-de58-40d6f24cd949"
      },
      "outputs": [
        {
          "output_type": "stream",
          "name": "stdout",
          "text": [
            "Collecting apyori\n",
            "  Downloading apyori-1.1.2.tar.gz (8.6 kB)\n",
            "  Preparing metadata (setup.py) ... \u001b[?25l\u001b[?25hdone\n",
            "Building wheels for collected packages: apyori\n",
            "  Building wheel for apyori (setup.py) ... \u001b[?25l\u001b[?25hdone\n",
            "  Created wheel for apyori: filename=apyori-1.1.2-py3-none-any.whl size=5954 sha256=7c21ac752bc30efec386601314935f1cd584ba494dde0074f47900930ffa5fda\n",
            "  Stored in directory: /root/.cache/pip/wheels/77/3d/a6/d317a6fb32be58a602b1e8c6b5d6f31f79322da554cad2a5ea\n",
            "Successfully built apyori\n",
            "Installing collected packages: apyori\n",
            "Successfully installed apyori-1.1.2\n"
          ]
        }
      ],
      "source": [
        "!pip install apyori"
      ]
    },
    {
      "cell_type": "code",
      "source": [
        "import numpy as np\n",
        "import pandas as pd\n",
        "from apyori import apriori"
      ],
      "metadata": {
        "id": "gnRjtpSNl7yr"
      },
      "execution_count": 2,
      "outputs": []
    },
    {
      "cell_type": "code",
      "source": [
        "store_data = pd.read_csv('/content/Day1.csv',header=None)"
      ],
      "metadata": {
        "id": "H0DHY2bamH4k"
      },
      "execution_count": 3,
      "outputs": []
    },
    {
      "cell_type": "code",
      "source": [
        "print(store_data)"
      ],
      "metadata": {
        "colab": {
          "base_uri": "https://localhost:8080/",
          "height": 0
        },
        "id": "UFPswqxYmlaP",
        "outputId": "37295bc5-e647-41b3-d056-40a524fd6295"
      },
      "execution_count": 4,
      "outputs": [
        {
          "output_type": "stream",
          "name": "stdout",
          "text": [
            "       0      1      2       3     4      5\n",
            "0   Wine  Chips  Bread  Butter  Milk  Apple\n",
            "1   Wine    NaN  Bread  Butter  Milk    NaN\n",
            "2    NaN    NaN  Bread  Butter  Milk    NaN\n",
            "3    NaN  Chips    NaN     NaN   NaN  Apple\n",
            "4   Wine  Chips  Bread  Butter  Milk  Apple\n",
            "5   Wine  Chips    NaN     NaN  Milk    NaN\n",
            "6   Wine  Chips  Bread  Butter   NaN  Apple\n",
            "7   Wine  Chips    NaN     NaN  Milk    NaN\n",
            "8   Wine    NaN  Bread     NaN   NaN  Apple\n",
            "9   Wine    NaN  Bread  Butter  Milk    NaN\n",
            "10   NaN  Chips  Bread  Butter   NaN  Apple\n",
            "11  Wine    NaN    NaN  Butter  Milk  Apple\n",
            "12  Wine  Chips  Bread  Butter  Milk    NaN\n",
            "13  Wine    NaN  Bread     NaN  Milk  Apple\n",
            "14  Wine    NaN  Bread  Butter  Milk  Apple\n",
            "15  Wine  Chips  Bread  Butter  Milk  Apple\n",
            "16   NaN  Chips  Bread  Butter  Milk  Apple\n",
            "17   NaN  Chips    NaN  Butter  Milk  Apple\n",
            "18  Wine  Chips  Bread  Butter  Milk  Apple\n",
            "19  Wine    NaN  Bread  Butter  Milk  Apple\n",
            "20  Wine  Chips  Bread     NaN  Milk  Apple\n",
            "21   NaN  Chips    NaN     NaN   NaN    NaN\n"
          ]
        }
      ]
    },
    {
      "cell_type": "code",
      "source": [
        "store_data.shape"
      ],
      "metadata": {
        "colab": {
          "base_uri": "https://localhost:8080/",
          "height": 0
        },
        "id": "_6XWOy7Smxwc",
        "outputId": "61d548fa-6771-4c10-9346-954ff53de61a"
      },
      "execution_count": 5,
      "outputs": [
        {
          "output_type": "execute_result",
          "data": {
            "text/plain": [
              "(22, 6)"
            ]
          },
          "metadata": {},
          "execution_count": 5
        }
      ]
    },
    {
      "cell_type": "code",
      "source": [
        "records = []\n",
        "for i in range(0,22):\n",
        "  records.append([str(store_data.values[i,j])for j in range(0,6)])"
      ],
      "metadata": {
        "id": "BFWm5ajtoKU3"
      },
      "execution_count": 7,
      "outputs": []
    },
    {
      "cell_type": "code",
      "source": [
        "records"
      ],
      "metadata": {
        "colab": {
          "base_uri": "https://localhost:8080/",
          "height": 0
        },
        "id": "o84DbgsZoSG-",
        "outputId": "0189fd99-fa40-420b-8fae-fd47dc903195"
      },
      "execution_count": 8,
      "outputs": [
        {
          "output_type": "execute_result",
          "data": {
            "text/plain": [
              "[['Wine', 'Chips', 'Bread', 'Butter', 'Milk', 'Apple'],\n",
              " ['Wine', 'nan', 'Bread', 'Butter', 'Milk', 'nan'],\n",
              " ['nan', 'nan', 'Bread', 'Butter', 'Milk', 'nan'],\n",
              " ['nan', 'Chips', 'nan', 'nan', 'nan', 'Apple'],\n",
              " ['Wine', 'Chips', 'Bread', 'Butter', 'Milk', 'Apple'],\n",
              " ['Wine', 'Chips', 'nan', 'nan', 'Milk', 'nan'],\n",
              " ['Wine', 'Chips', 'Bread', 'Butter', 'nan', 'Apple'],\n",
              " ['Wine', 'Chips', 'nan', 'nan', 'Milk', 'nan'],\n",
              " ['Wine', 'nan', 'Bread', 'nan', 'nan', 'Apple'],\n",
              " ['Wine', 'nan', 'Bread', 'Butter', 'Milk', 'nan'],\n",
              " ['nan', 'Chips', 'Bread', 'Butter', 'nan', 'Apple'],\n",
              " ['Wine', 'nan', 'nan', 'Butter', 'Milk', 'Apple'],\n",
              " ['Wine', 'Chips', 'Bread', 'Butter', 'Milk', 'nan'],\n",
              " ['Wine', 'nan', 'Bread', 'nan', 'Milk', 'Apple'],\n",
              " ['Wine', 'nan', 'Bread', 'Butter', 'Milk', 'Apple'],\n",
              " ['Wine', 'Chips', 'Bread', 'Butter', 'Milk', 'Apple'],\n",
              " ['nan', 'Chips', 'Bread', 'Butter', 'Milk', 'Apple'],\n",
              " ['nan', 'Chips', 'nan', 'Butter', 'Milk', 'Apple'],\n",
              " ['Wine', 'Chips', 'Bread', 'Butter', 'Milk', 'Apple'],\n",
              " ['Wine', 'nan', 'Bread', 'Butter', 'Milk', 'Apple'],\n",
              " ['Wine', 'Chips', 'Bread', 'nan', 'Milk', 'Apple'],\n",
              " ['nan', 'Chips', 'nan', 'nan', 'nan', 'nan']]"
            ]
          },
          "metadata": {},
          "execution_count": 8
        }
      ]
    },
    {
      "cell_type": "code",
      "source": [
        "association_rule = apriori(records, min_support = 0.50, min_confidence = 0.7, min_lift = 1.2, min_length = 2)\n",
        "association_results = list (association_rule)"
      ],
      "metadata": {
        "id": "kkBxEfWdokJN"
      },
      "execution_count": 12,
      "outputs": []
    },
    {
      "cell_type": "code",
      "source": [
        "print(len(association_results))"
      ],
      "metadata": {
        "colab": {
          "base_uri": "https://localhost:8080/",
          "height": 0
        },
        "id": "ldVg2HqtqB5T",
        "outputId": "7978b8dc-08b2-4b5b-df46-2c0f41911d42"
      },
      "execution_count": 13,
      "outputs": [
        {
          "output_type": "stream",
          "name": "stdout",
          "text": [
            "1\n"
          ]
        }
      ]
    },
    {
      "cell_type": "code",
      "source": [
        "print(association_results)"
      ],
      "metadata": {
        "colab": {
          "base_uri": "https://localhost:8080/",
          "height": 0
        },
        "id": "OC2jcYkKqI93",
        "outputId": "0727dc89-09cb-4a9f-b028-9710a810f7d4"
      },
      "execution_count": 14,
      "outputs": [
        {
          "output_type": "stream",
          "name": "stdout",
          "text": [
            "[RelationRecord(items=frozenset({'Milk', 'Bread', 'Butter'}), support=0.5, ordered_statistics=[OrderedStatistic(items_base=frozenset({'Butter'}), items_add=frozenset({'Bread', 'Milk'}), confidence=0.7333333333333334, lift=1.241025641025641), OrderedStatistic(items_base=frozenset({'Milk', 'Bread'}), items_add=frozenset({'Butter'}), confidence=0.8461538461538461, lift=1.241025641025641)])]\n"
          ]
        }
      ]
    },
    {
      "cell_type": "markdown",
      "source": [
        "The support value for the first rule is 0.5 . This number is calculated by dividing the number of transactions containing Milk,Butter and Bread by the total number of transactions."
      ],
      "metadata": {
        "id": "lHbf_JCpqcyz"
      }
    },
    {
      "cell_type": "markdown",
      "source": [
        "The Confidence level for the rule is 0.846, which shows that out of all the transctions that conatin both 'Milk' and 'Bread', 84.6% conatins 'Butter' too."
      ],
      "metadata": {
        "id": "DtYDALQpsbEA"
      }
    },
    {
      "cell_type": "markdown",
      "source": [
        "The lift of 1.241 tells us that 'Butter' iss 1.241 times more likely to be bought by customers who buy both 'milk' and 'Butter' compared to the defaukt likelihood sale of 'Butter'."
      ],
      "metadata": {
        "id": "ZY8sH5PztTsC"
      }
    }
  ]
}